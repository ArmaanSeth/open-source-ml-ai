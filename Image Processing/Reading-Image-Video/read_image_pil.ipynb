{
  "nbformat": 4,
  "nbformat_minor": 0,
  "metadata": {
    "colab": {
      "provenance": []
    },
    "kernelspec": {
      "name": "python3",
      "display_name": "Python 3"
    },
    "language_info": {
      "name": "python"
    }
  },
  "cells": [
    {
      "cell_type": "markdown",
      "source": [
        "### This python notebook shows how to read images using PIL's Image() function. \n",
        "Image() supports various file formats including, but not limited to, .bmp, .webp, .jpg, .jpeg, and .png."
      ],
      "metadata": {
        "id": "QvWIh7h0hurM"
      }
    },
    {
      "cell_type": "code",
      "execution_count": 3,
      "metadata": {
        "id": "992nZ6S0hk66"
      },
      "outputs": [],
      "source": [
        "#Import the necessary libraries\n",
        "import os\n",
        "from google.colab import drive\n",
        "from google.colab.patches import cv2_imshow #used to display images on colab\n",
        "from PIL import Image"
      ]
    },
    {
      "cell_type": "code",
      "source": [
        "#Connect to Google Drive\n",
        "drive.mount('/content/drive',force_remount=True)\n",
        "os.chdir('/content/drive/My Drive')\n",
        "print(\"Change successful.\")"
      ],
      "metadata": {
        "colab": {
          "base_uri": "https://localhost:8080/"
        },
        "id": "3gS6Rx6ch6n7",
        "outputId": "45854639-8687-4771-f834-7c7b43990f64"
      },
      "execution_count": 2,
      "outputs": [
        {
          "output_type": "stream",
          "name": "stdout",
          "text": [
            "Mounted at /content/drive\n",
            "Change successful.\n"
          ]
        }
      ]
    },
    {
      "cell_type": "markdown",
      "source": [
        "#### Reading an image using Image() [Image(path)]"
      ],
      "metadata": {
        "id": "3-doVYQ4h80E"
      }
    },
    {
      "cell_type": "code",
      "source": [
        "img = Image.open(\"python_logo.png\")\n",
        "img #this work-around is only for Google Colab. On your local machines please use img.show() to display the image."
      ],
      "metadata": {
        "colab": {
          "base_uri": "https://localhost:8080/",
          "height": 242
        },
        "id": "Jw5KsuFWiJeT",
        "outputId": "fe1e289b-a5d0-4900-8e41-b4c1e55eed5b"
      },
      "execution_count": 5,
      "outputs": [
        {
          "output_type": "execute_result",
          "data": {
            "text/plain": [
              "<PIL.PngImagePlugin.PngImageFile image mode=P size=225x225 at 0x7FEAD36C64D0>"
            ],
            "image/png": "[encoded data removed]"
          },
          "metadata": {},
          "execution_count": 5
        }
      ]
    },
    {
      "cell_type": "markdown",
      "source": [
        "#### PIL Image() mode attribute\n",
        "The mode attribute of the image tells the type and depth of the pixel in the image. A 1-bit pixel has a range of 0-1, and an 8-bit pixel has a range of 0-255. There are different modes provided by this module:\n",
        "\n",
        "1  ==> 1-bit pixels, black and white\n",
        "\n",
        "L  ==> 8-bit pixels, Greyscale\n",
        "\n",
        "P  ==> 8-bit pixels, mapped to any other mode using a color palette\n",
        "\n",
        "RGB  ==> 3×8-bit pixels, true color\n",
        "\n",
        "RGBA  ==> 4×8-bit pixels, true color with transparency mask"
      ],
      "metadata": {
        "id": "nzsrfm_alTTU"
      }
    },
    {
      "cell_type": "code",
      "source": [
        "img.mode"
      ],
      "metadata": {
        "colab": {
          "base_uri": "https://localhost:8080/",
          "height": 36
        },
        "id": "270Dia4njPlJ",
        "outputId": "92bd14a7-82d4-4730-af51-e465749c6175"
      },
      "execution_count": 6,
      "outputs": [
        {
          "output_type": "execute_result",
          "data": {
            "text/plain": [
              "'P'"
            ],
            "application/vnd.google.colaboratory.intrinsic+json": {
              "type": "string"
            }
          },
          "metadata": {},
          "execution_count": 6
        }
      ]
    }
  ]
}